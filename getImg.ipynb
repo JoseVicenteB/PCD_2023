{
 "cells": [
  {
   "cell_type": "code",
   "execution_count": 1,
   "id": "40107a47-ef8a-4302-8f71-61c247ed2d56",
   "metadata": {},
   "outputs": [],
   "source": [
    "import os, threading as th, time, urllib.request as rq, concurrent as ct, IPython as IP"
   ]
  },
  {
   "cell_type": "code",
   "execution_count": 24,
   "id": "4b10f347-6173-4b80-af2f-702db0a4da43",
   "metadata": {},
   "outputs": [],
   "source": [
    "new_image = \"https://storage.cloud.google.com/pcd-images-threads/IMG_3727.jpeg\""
   ]
  },
  {
   "cell_type": "code",
   "execution_count": 11,
   "id": "23777bba-8514-4d1c-be37-757c9efe6267",
   "metadata": {},
   "outputs": [
    {
     "name": "stdin",
     "output_type": "stream",
     "text": [
      "number 00\n"
     ]
    }
   ],
   "source": [
    "img = int(input(\"number\"))"
   ]
  },
  {
   "cell_type": "code",
   "execution_count": 25,
   "id": "e24c2760-eacf-4367-82d3-92f77a3a8dc0",
   "metadata": {},
   "outputs": [],
   "source": [
    "img_url = (\"https://storage.cloud.google.com/pcd-images-threads/IMG_3727.jpeg\")"
   ]
  },
  {
   "cell_type": "code",
   "execution_count": 26,
   "id": "a96a5665-18a7-45e7-9d65-43a4617a18e5",
   "metadata": {},
   "outputs": [
    {
     "data": {
      "text/plain": [
       "'https://storage.cloud.google.com/pcd-images-threads/IMG_3727.jpeg'"
      ]
     },
     "execution_count": 26,
     "metadata": {},
     "output_type": "execute_result"
    }
   ],
   "source": [
    "img_url"
   ]
  },
  {
   "cell_type": "code",
   "execution_count": 27,
   "id": "0fd06487-cf64-445f-b4fb-fba75e276a7b",
   "metadata": {},
   "outputs": [
    {
     "ename": "SyntaxError",
     "evalue": "incomplete input (3225796011.py, line 4)",
     "output_type": "error",
     "traceback": [
      "\u001b[1;36m  Cell \u001b[1;32mIn[27], line 4\u001b[1;36m\u001b[0m\n\u001b[1;33m    \u001b[0m\n\u001b[1;37m    ^\u001b[0m\n\u001b[1;31mSyntaxError\u001b[0m\u001b[1;31m:\u001b[0m incomplete input\n"
     ]
    }
   ],
   "source": [
    "def dwl_a_mano(lt):\n",
    "    wt=0\n",
    "    for i in lt:\n",
    "        "
   ]
  },
  {
   "cell_type": "code",
   "execution_count": 28,
   "id": "dd124d2a-726b-453c-9d90-f137bf937ccf",
   "metadata": {},
   "outputs": [],
   "source": [
    "a_url_ = []"
   ]
  },
  {
   "cell_type": "code",
   "execution_count": 29,
   "id": "31a397f8-ca48-4669-bb8f-c8a80e6d3050",
   "metadata": {},
   "outputs": [
    {
     "name": "stdout",
     "output_type": "stream",
     "text": [
      "https://storage.googleapis.com/christian_vladimir_sucuzhanay_bucket/pictures_videos/pic000.jpeg\n",
      "https://storage.googleapis.com/christian_vladimir_sucuzhanay_bucket/pictures_videos/pic001.jpeg\n",
      "https://storage.googleapis.com/christian_vladimir_sucuzhanay_bucket/pictures_videos/pic002.jpeg\n",
      "https://storage.googleapis.com/christian_vladimir_sucuzhanay_bucket/pictures_videos/pic003.jpeg\n",
      "https://storage.googleapis.com/christian_vladimir_sucuzhanay_bucket/pictures_videos/pic004.jpeg\n",
      "https://storage.googleapis.com/christian_vladimir_sucuzhanay_bucket/pictures_videos/pic005.jpeg\n",
      "https://storage.googleapis.com/christian_vladimir_sucuzhanay_bucket/pictures_videos/pic006.jpeg\n",
      "https://storage.googleapis.com/christian_vladimir_sucuzhanay_bucket/pictures_videos/pic007.jpeg\n",
      "https://storage.googleapis.com/christian_vladimir_sucuzhanay_bucket/pictures_videos/pic008.jpeg\n",
      "https://storage.googleapis.com/christian_vladimir_sucuzhanay_bucket/pictures_videos/pic009.jpeg\n"
     ]
    }
   ],
   "source": [
    "for i in range(10):\n",
    "    img_uri_ = \"https://storage.googleapis.com/christian_vladimir_sucuzhanay_bucket/pictures_videos/pic00\" + str(i) + \".jpeg\"\n",
    "    print(img_uri_)\n",
    "    a_url_.append(img_uri_)"
   ]
  },
  {
   "cell_type": "code",
   "execution_count": 30,
   "id": "856220f0-494d-4936-bfdf-c644eae768f8",
   "metadata": {},
   "outputs": [
    {
     "data": {
      "text/plain": [
       "['https://storage.googleapis.com/christian_vladimir_sucuzhanay_bucket/pictures_videos/pic000.jpeg',\n",
       " 'https://storage.googleapis.com/christian_vladimir_sucuzhanay_bucket/pictures_videos/pic001.jpeg',\n",
       " 'https://storage.googleapis.com/christian_vladimir_sucuzhanay_bucket/pictures_videos/pic002.jpeg',\n",
       " 'https://storage.googleapis.com/christian_vladimir_sucuzhanay_bucket/pictures_videos/pic003.jpeg',\n",
       " 'https://storage.googleapis.com/christian_vladimir_sucuzhanay_bucket/pictures_videos/pic004.jpeg',\n",
       " 'https://storage.googleapis.com/christian_vladimir_sucuzhanay_bucket/pictures_videos/pic005.jpeg',\n",
       " 'https://storage.googleapis.com/christian_vladimir_sucuzhanay_bucket/pictures_videos/pic006.jpeg',\n",
       " 'https://storage.googleapis.com/christian_vladimir_sucuzhanay_bucket/pictures_videos/pic007.jpeg',\n",
       " 'https://storage.googleapis.com/christian_vladimir_sucuzhanay_bucket/pictures_videos/pic008.jpeg',\n",
       " 'https://storage.googleapis.com/christian_vladimir_sucuzhanay_bucket/pictures_videos/pic009.jpeg']"
      ]
     },
     "execution_count": 30,
     "metadata": {},
     "output_type": "execute_result"
    }
   ],
   "source": [
    "a_url_"
   ]
  },
  {
   "cell_type": "code",
   "execution_count": 31,
   "id": "be41ef3d-c882-4ca8-b74a-c49ad9929c82",
   "metadata": {},
   "outputs": [
    {
     "ename": "SyntaxError",
     "evalue": "invalid syntax (1885169875.py, line 1)",
     "output_type": "error",
     "traceback": [
      "\u001b[1;36m  Cell \u001b[1;32mIn[31], line 1\u001b[1;36m\u001b[0m\n\u001b[1;33m    def\u001b[0m\n\u001b[1;37m        ^\u001b[0m\n\u001b[1;31mSyntaxError\u001b[0m\u001b[1;31m:\u001b[0m invalid syntax\n"
     ]
    }
   ],
   "source": [
    "def "
   ]
  },
  {
   "cell_type": "code",
   "execution_count": 1,
   "id": "746f417e-a0ad-4fba-be4a-7d79e0a2f19b",
   "metadata": {},
   "outputs": [],
   "source": [
    "def seq_download_images(image_numbers):\n",
    "    total_bytes = 0\n",
    "    for num in image_numbers:\n",
    "        total_bytes += _download_image(num)\n",
    "    return total_bytes"
   ]
  },
  {
   "cell_type": "code",
   "execution_count": null,
   "id": "64458b58-9bcf-4707-83d7-43e654b812f4",
   "metadata": {},
   "outputs": [],
   "source": []
  },
  {
   "cell_type": "code",
   "execution_count": null,
   "id": "8a46c8fb-e417-408f-8790-771c4d3eaaac",
   "metadata": {},
   "outputs": [],
   "source": []
  },
  {
   "cell_type": "code",
   "execution_count": null,
   "id": "f95f26b7-0d28-40a0-b5a0-e5368453c578",
   "metadata": {},
   "outputs": [],
   "source": []
  }
 ],
 "metadata": {
  "kernelspec": {
   "display_name": "Python 3 (ipykernel)",
   "language": "python",
   "name": "python3"
  },
  "language_info": {
   "codemirror_mode": {
    "name": "ipython",
    "version": 3
   },
   "file_extension": ".py",
   "mimetype": "text/x-python",
   "name": "python",
   "nbconvert_exporter": "python",
   "pygments_lexer": "ipython3",
   "version": "3.10.5"
  }
 },
 "nbformat": 4,
 "nbformat_minor": 5
}
