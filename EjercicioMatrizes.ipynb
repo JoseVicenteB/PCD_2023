{
 "cells": [
  {
   "cell_type": "markdown",
   "id": "439d6055-0eb0-452e-a887-99b9ed5e8d94",
   "metadata": {},
   "source": [
    "### EjercicioListas"
   ]
  },
  {
   "cell_type": "code",
   "execution_count": 24,
   "id": "fd0aa3e1-2c3f-4c8c-a02d-163172e80d33",
   "metadata": {},
   "outputs": [],
   "source": [
    "import random\n",
    "def matriz():\n",
    "    rows = input(\"rows on A:\")\n",
    "    cols = input(\"cols on A:\")\n",
    "\n",
    "    rows2 = input(\"rows on B:\")\n",
    "    cols2 = input(\"cols on B:\")\n",
    "\n",
    "\n",
    "    matr = [[random.randint(0, 223) for _ in range(int(cols))]for _ in range(int(rows))];\n",
    "    matr2 = [[random.randint(0, 223) for _ in range(int(cols2))]for _ in range(int(rows2))];\n",
    "\n",
    "    if (len(matr[0]) == len(matr2):\n",
    "        print(\"las matrizes son multiplicables\")\n",
    "        multiplicacion(matr,matr2)\n",
    "        \n",
    "    else:\n",
    "        print(\"las matrizes nos son multiplicables, haz otras que sean multiplicables\")\n",
    "        matriz() "
   ]
  },
  {
   "cell_type": "code",
   "execution_count": 25,
   "id": "95ea77da-e802-4138-8573-ced15ac28bf0",
   "metadata": {},
   "outputs": [],
   "source": [
    "def comprobar(matr, matr2):\n",
    "    if len(matr) == len(matr2[0]):\n",
    "        print(\"las matrizes son multiplicables\")\n",
    "        return True\n",
    "    else:\n",
    "        print(\"las matrizes nos son multiplicables, haz otras que sean multiplicables\")\n",
    "        return False\n",
    "        \n",
    "        "
   ]
  },
  {
   "cell_type": "code",
   "execution_count": 22,
   "id": "afe79804-4b94-4d77-8a85-ae3d3ff78468",
   "metadata": {},
   "outputs": [],
   "source": [
    "def multiplicacion(matr1,matr2):\n",
    "    filas = len(matr1)\n",
    "    columnas = len(matr2[0])\n",
    "    matriz_resultante = [[0 for _ in range(int(columnas))]for _ in range(int(filas))];\n",
    "    \n",
    "    for i in range(filas):\n",
    "        for j in range(columnas):\n",
    "            for k in range(len(matr1[0])):\n",
    "                \n",
    "                matriz_resultante[i][j] += matr1[i][k] * matr2[k][j]\n",
    "    print(\"La matriz resutante es\")\n",
    "    print(matriz_resultante)"
   ]
  },
  {
   "cell_type": "code",
   "execution_count": 23,
   "id": "d01dcae0-315b-4d2a-85bd-4ed65d0338e2",
   "metadata": {},
   "outputs": [
    {
     "name": "stdin",
     "output_type": "stream",
     "text": [
      "rows on A: 3\n",
      "cols on A: 2\n",
      "rows on B: 2\n",
      "cols on B: 3\n"
     ]
    },
    {
     "name": "stdout",
     "output_type": "stream",
     "text": [
      "las matrizes son multiplicables\n",
      "La matriz resutante es\n",
      "[[18275, 22066], [12608, 14440]]\n"
     ]
    }
   ],
   "source": [
    "##resultado = matriz()\n",
    "##matr1, matr2 = resultado\n",
    "##multiplicacion(matr1,matr2)\n",
    "matriz()"
   ]
  },
  {
   "cell_type": "markdown",
   "id": "f7003037-60be-4a8a-9406-94503f6c35de",
   "metadata": {},
   "source": []
  },
  {
   "cell_type": "code",
   "execution_count": null,
   "id": "1fa7a5b0-6316-4c22-acfa-05e4e261fa52",
   "metadata": {},
   "outputs": [],
   "source": []
  },
  {
   "cell_type": "code",
   "execution_count": null,
   "id": "fed5606d-0966-4618-82ec-26cdf6b7d037",
   "metadata": {},
   "outputs": [],
   "source": []
  },
  {
   "cell_type": "code",
   "execution_count": null,
   "id": "25f25612-20fe-4ffd-bdac-fa4dcae0b095",
   "metadata": {},
   "outputs": [],
   "source": []
  },
  {
   "cell_type": "code",
   "execution_count": null,
   "id": "347a9f0a-459d-4447-a71c-3e80b518282c",
   "metadata": {},
   "outputs": [],
   "source": []
  },
  {
   "cell_type": "code",
   "execution_count": null,
   "id": "1ae2e453-ffe3-4b99-9553-5402f71e54cd",
   "metadata": {},
   "outputs": [],
   "source": []
  },
  {
   "cell_type": "code",
   "execution_count": null,
   "id": "1004fe8a-88e7-48aa-b517-56f7ed6115f6",
   "metadata": {},
   "outputs": [],
   "source": []
  },
  {
   "cell_type": "code",
   "execution_count": null,
   "id": "147cdfdc-70f5-4b96-83ae-0f99bbae3060",
   "metadata": {},
   "outputs": [],
   "source": []
  },
  {
   "cell_type": "code",
   "execution_count": null,
   "id": "bc0f3293-964a-4f28-beaf-889c6b3af0f9",
   "metadata": {},
   "outputs": [],
   "source": []
  },
  {
   "cell_type": "code",
   "execution_count": null,
   "id": "6dabe483-c0ec-4d5e-964b-cecc1f123eff",
   "metadata": {},
   "outputs": [],
   "source": []
  },
  {
   "cell_type": "code",
   "execution_count": null,
   "id": "437de892-28cf-4cf3-a4da-161b66f98852",
   "metadata": {},
   "outputs": [],
   "source": []
  },
  {
   "cell_type": "code",
   "execution_count": null,
   "id": "21668ea6-9554-4a76-b06a-6bc0f5f38171",
   "metadata": {},
   "outputs": [],
   "source": []
  },
  {
   "cell_type": "code",
   "execution_count": null,
   "id": "062382c9-40b0-4c78-987c-cb7e8914cfe1",
   "metadata": {},
   "outputs": [],
   "source": []
  },
  {
   "cell_type": "code",
   "execution_count": null,
   "id": "16826a08-0b03-4fc1-8210-fbb2ab43b6e2",
   "metadata": {},
   "outputs": [],
   "source": []
  },
  {
   "cell_type": "code",
   "execution_count": null,
   "id": "2742fd6a-de51-484e-9c08-b47155336d5f",
   "metadata": {},
   "outputs": [],
   "source": []
  },
  {
   "cell_type": "code",
   "execution_count": 51,
   "id": "3d12e2aa-0eb7-42b8-ae5e-07797e5a2a42",
   "metadata": {},
   "outputs": [
    {
     "name": "stderr",
     "output_type": "stream",
     "text": [
      "warning: in the working copy of 'Python_crash_course_session_01.ipynb', LF will be replaced by CRLF the next time Git touches it\n",
      "warning: in the working copy of 'Python_crash_course_session_02.ipynb', LF will be replaced by CRLF the next time Git touches it\n",
      "warning: in the working copy of 'Python_crash_course_session_2.ipynb', LF will be replaced by CRLF the next time Git touches it\n",
      "warning: in the working copy of '.ipynb_checkpoints/EjercicioMatrizes-checkpoint.ipynb', LF will be replaced by CRLF the next time Git touches it\n",
      "warning: in the working copy of 'EjercicioMatrizes.ipynb', LF will be replaced by CRLF the next time Git touches it\n",
      "warning: in the working copy of 'Python_crash_course-session_4.ipynb', LF will be replaced by CRLF the next time Git touches it\n",
      "warning: in the working copy of 'Python_crash_course_session_3.ipynb', LF will be replaced by CRLF the next time Git touches it\n"
     ]
    }
   ],
   "source": [
    "!git add .\n"
   ]
  },
  {
   "cell_type": "code",
   "execution_count": 52,
   "id": "52b326b2-73f2-43d2-ad33-f7ea75d23a69",
   "metadata": {},
   "outputs": [
    {
     "name": "stdout",
     "output_type": "stream",
     "text": [
      "[main 57dd4cb] Ejercicio Matrizes\n",
      " 7 files changed, 12570 insertions(+), 64 deletions(-)\n",
      " create mode 100644 .ipynb_checkpoints/EjercicioMatrizes-checkpoint.ipynb\n",
      " create mode 100644 .ipynb_checkpoints/Python_crash_course-session_4-checkpoint.ipynb\n",
      " create mode 100644 .ipynb_checkpoints/Python_crash_course_session_3-checkpoint.ipynb\n",
      " create mode 100644 EjercicioMatrizes.ipynb\n",
      " create mode 100644 Python_crash_course-session_4.ipynb\n",
      " create mode 100644 Python_crash_course_session_3.ipynb\n"
     ]
    }
   ],
   "source": [
    "!git commit -m\"Ejercicio Matrizes\""
   ]
  },
  {
   "cell_type": "code",
   "execution_count": 53,
   "id": "cc580213-564c-4a1a-bb59-5ba94c70c17c",
   "metadata": {},
   "outputs": [
    {
     "name": "stderr",
     "output_type": "stream",
     "text": [
      "To https://github.com/JoseVicenteB/PCD_2023.git\n",
      "   a0d7df4..57dd4cb  main -> main\n"
     ]
    }
   ],
   "source": [
    "!git push"
   ]
  },
  {
   "cell_type": "code",
   "execution_count": null,
   "id": "2c443ca1-f935-46b6-9683-aea85c273ccc",
   "metadata": {},
   "outputs": [],
   "source": []
  }
 ],
 "metadata": {
  "kernelspec": {
   "display_name": "Python 3 (ipykernel)",
   "language": "python",
   "name": "python3"
  },
  "language_info": {
   "codemirror_mode": {
    "name": "ipython",
    "version": 3
   },
   "file_extension": ".py",
   "mimetype": "text/x-python",
   "name": "python",
   "nbconvert_exporter": "python",
   "pygments_lexer": "ipython3",
   "version": "3.10.5"
  }
 },
 "nbformat": 4,
 "nbformat_minor": 5
}
